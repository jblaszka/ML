{
  "nbformat": 4,
  "nbformat_minor": 0,
  "metadata": {
    "colab": {
      "name": "Breast cancer.ipynb",
      "provenance": [],
      "authorship_tag": "ABX9TyNOufzt7xRF/73755bMUGfs",
      "include_colab_link": true
    },
    "kernelspec": {
      "name": "python3",
      "display_name": "Python 3"
    },
    "language_info": {
      "name": "python"
    }
  },
  "cells": [
    {
      "cell_type": "markdown",
      "metadata": {
        "id": "view-in-github",
        "colab_type": "text"
      },
      "source": [
        "<a href=\"https://colab.research.google.com/github/jblaszka/ML/blob/main/Breast_cancer.ipynb\" target=\"_parent\"><img src=\"https://colab.research.google.com/assets/colab-badge.svg\" alt=\"Open In Colab\"/></a>"
      ]
    },
    {
      "cell_type": "code",
      "metadata": {
        "id": "3FWZ7SdMubEm"
      },
      "source": [
        "%tensorflow_version 2.x\n",
        "import numpy as np\n",
        "import pandas as pd\n",
        "import matplotlib.pyplot as plt\n",
        "import seaborn as sns\n",
        "from tensorflow.keras.datasets.fashion_mnist import load_data\n",
        "\n",
        "np.set_printoptions(precision=12, suppress=True, linewidth=150)\n",
        "pd.options.display.float_format = '{:.6f}'.format\n",
        "sns.set(font_scale=1.3)"
      ],
      "execution_count": 20,
      "outputs": []
    },
    {
      "cell_type": "code",
      "metadata": {
        "id": "NgVBFpb8UlOm"
      },
      "source": [
        "from sklearn.datasets import load_breast_cancer\n",
        "\n",
        "raw_data = load_breast_cancer()\n",
        "all_data = raw_data.copy()"
      ],
      "execution_count": 21,
      "outputs": []
    },
    {
      "cell_type": "code",
      "metadata": {
        "id": "uA0SACxwgtNF"
      },
      "source": [
        "data = all_data['data']\n",
        "target = all_data['target']"
      ],
      "execution_count": 22,
      "outputs": []
    },
    {
      "cell_type": "code",
      "metadata": {
        "id": "Hv5U5u36iYLC"
      },
      "source": [
        "from sklearn.model_selection import train_test_split\n",
        "X_train, X_test, y_train, y_test = train_test_split(data, target)"
      ],
      "execution_count": 23,
      "outputs": []
    },
    {
      "cell_type": "code",
      "metadata": {
        "id": "kWJJPkPHicSO"
      },
      "source": [
        "#standaryzacja danych \n",
        "from sklearn.preprocessing import StandardScaler\n",
        "\n",
        "scaler = StandardScaler()\n",
        "scaler.fit(X_train)\n",
        "\n",
        "X_train = scaler.transform(X_train)\n",
        "X_test = scaler.transform(X_test)"
      ],
      "execution_count": 24,
      "outputs": []
    },
    {
      "cell_type": "code",
      "metadata": {
        "colab": {
          "base_uri": "https://localhost:8080/"
        },
        "id": "9npDwJrlj7fu",
        "outputId": "b4d4f13d-97bc-4230-e7a3-aa42cc53cb3a"
      },
      "source": [
        "#dopasowanie modelu \n",
        "from sklearn.linear_model import LogisticRegression\n",
        "\n",
        "log_reg = LogisticRegression()\n",
        "log_reg.fit(X_train, y_train)"
      ],
      "execution_count": 25,
      "outputs": [
        {
          "output_type": "execute_result",
          "data": {
            "text/plain": [
              "LogisticRegression(C=1.0, class_weight=None, dual=False, fit_intercept=True,\n",
              "                   intercept_scaling=1, l1_ratio=None, max_iter=100,\n",
              "                   multi_class='auto', n_jobs=None, penalty='l2',\n",
              "                   random_state=None, solver='lbfgs', tol=0.0001, verbose=0,\n",
              "                   warm_start=False)"
            ]
          },
          "metadata": {
            "tags": []
          },
          "execution_count": 25
        }
      ]
    },
    {
      "cell_type": "code",
      "metadata": {
        "id": "7Hi2okjuofR3"
      },
      "source": [
        "y_pred = log_reg.predict(X_test)"
      ],
      "execution_count": 26,
      "outputs": []
    },
    {
      "cell_type": "code",
      "metadata": {
        "id": "EiDES8cgoqSO"
      },
      "source": [
        "#ocena\n",
        "from sklearn.metrics import confusion_matrix\n",
        "from sklearn.metrics import accuracy_score\n",
        "from mlxtend.plotting import plot_confusion_matrix"
      ],
      "execution_count": 32,
      "outputs": []
    },
    {
      "cell_type": "code",
      "metadata": {
        "colab": {
          "base_uri": "https://localhost:8080/",
          "height": 310
        },
        "id": "sRY7SkR9t5Qw",
        "outputId": "97ba03f3-43a6-472c-f22f-462be82b9c0e"
      },
      "source": [
        "cm = confusion_matrix(y_test, y_pred)\n",
        "plot_confusion_matrix(cm)\n",
        "print(accuracy_score(y_test, y_pred))"
      ],
      "execution_count": 35,
      "outputs": [
        {
          "output_type": "stream",
          "text": [
            "0.993006993006993\n"
          ],
          "name": "stdout"
        },
        {
          "output_type": "display_data",
          "data": {
            "image/png": "[encoded data removed]",
            "text/plain": [
              "<Figure size 432x288 with 1 Axes>"
            ]
          },
          "metadata": {
            "tags": []
          }
        }
      ]
    },
    {
      "cell_type": "code",
      "metadata": {
        "colab": {
          "base_uri": "https://localhost:8080/"
        },
        "id": "PXtKh6GMuTev",
        "outputId": "ee1e9d8f-7ade-40bb-fc51-f8e92cd85499"
      },
      "source": [
        "from sklearn.metrics import classification_report\n",
        "\n",
        "print(classification_report(y_test, y_pred))"
      ],
      "execution_count": 38,
      "outputs": [
        {
          "output_type": "stream",
          "text": [
            "              precision    recall  f1-score   support\n",
            "\n",
            "           0       1.00      0.98      0.99        49\n",
            "           1       0.99      1.00      0.99        94\n",
            "\n",
            "    accuracy                           0.99       143\n",
            "   macro avg       0.99      0.99      0.99       143\n",
            "weighted avg       0.99      0.99      0.99       143\n",
            "\n"
          ],
          "name": "stdout"
        }
      ]
    }
  ]
}